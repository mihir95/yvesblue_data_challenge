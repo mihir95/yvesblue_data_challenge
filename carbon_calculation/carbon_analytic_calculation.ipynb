{
 "cells": [
  {
   "cell_type": "markdown",
   "metadata": {},
   "source": [
    "# YvesBlue Backend Challenge\n",
    "## Carbon Analytic Calculation\n",
    "### Goal: Utilizing this Jupyter Notebook (and additional libraries/files/tools as needed) implement a function that can be utilized to calculate the (strawman) Adjusted CO2 Total emissions for a company. \n",
    "### Notes: The calculation is laid out in this [image](calculation.png?raw=true). The data is stored inside of the [included data file](data.json?raw=true). Your code structure can take whatever you believe to be best (individual function, class, module, etc.). Please implement the code as well as write tests for the calculation, showcasing how you would write tests for such requirements. Provide instructions with your submission for how to call your implemented function as well as how to run the tests.\n",
    "## Author: @github_username (Full Name)\n",
    "## Date: YYYY-MM-DD"
   ]
  },
  {
   "cell_type": "code",
   "execution_count": 65,
   "metadata": {},
   "outputs": [],
   "source": [
    "## Import Libraries\n",
    "\n",
    "#import decimal\n",
    "import json\n",
    "import unittest\n",
    "#import os\n",
    "\n",
    "#import numpy as np\n"
   ]
  },
  {
   "cell_type": "code",
   "execution_count": 69,
   "metadata": {},
   "outputs": [],
   "source": [
    "## Specify Calculation Function\n",
    "\n",
    "#calculation funtion requires input as a list of the dict\n",
    "def calculate_adj_emissions(data):\n",
    "\n",
    "    disc_purch = 0.5\n",
    "    max_disc_pur = 0.8\n",
    "    conv_prod = 0.05\n",
    "    \n",
    "    new_adj_em = []\n",
    "    for row in data:\n",
    "        total_em = row[\"Total CO2 Equivalents Emissions\"] \n",
    "        carbon_cred = row[\"Carbon Credit Value\"]\n",
    "        re_purch = row[\"Renewable Energy Purchased\"]\n",
    "        re_prod = row[\"Renewable Energy Produced\"]\n",
    "        e_total = row[\"Total Energy Use\"]\n",
    "        adj_em = (total_em - carbon_cred) * (1 - min((disc_purch * re_purch/e_total),max_disc_pur)) - (conv_prod * re_prod)\n",
    "        new_adj_em.append({\"ISIN\": row[\"ISIN\"], \"Adjusted CO2\": round(adj_em,2)})\n",
    "    return new_adj_em\n",
    "        \n",
    "        "
   ]
  },
  {
   "cell_type": "code",
   "execution_count": 72,
   "metadata": {},
   "outputs": [
    {
     "data": {
      "text/plain": [
       "[{'ISIN': 'US0000000000', 'Adjusted CO2': 81902.99},\n",
       " {'ISIN': 'US0000000001', 'Adjusted CO2': 247545.07},\n",
       " {'ISIN': 'US0000000002', 'Adjusted CO2': 86464.07},\n",
       " {'ISIN': 'US0000000003', 'Adjusted CO2': -44835.88},\n",
       " {'ISIN': 'US0000000004', 'Adjusted CO2': 111694.64},\n",
       " {'ISIN': 'US0000000005', 'Adjusted CO2': 174827.68},\n",
       " {'ISIN': 'US0000000006', 'Adjusted CO2': 53170.9},\n",
       " {'ISIN': 'US0000000007', 'Adjusted CO2': 80180.68},\n",
       " {'ISIN': 'US0000000008', 'Adjusted CO2': 49487.05},\n",
       " {'ISIN': 'US0000000009', 'Adjusted CO2': 268186.24},\n",
       " {'ISIN': 'US0000000010', 'Adjusted CO2': 389716.36},\n",
       " {'ISIN': 'US0000000011', 'Adjusted CO2': 171647.99},\n",
       " {'ISIN': 'US0000000012', 'Adjusted CO2': 903772.1},\n",
       " {'ISIN': 'US0000000013', 'Adjusted CO2': 56404.98},\n",
       " {'ISIN': 'US0000000014', 'Adjusted CO2': 10100.78},\n",
       " {'ISIN': 'US0000000015', 'Adjusted CO2': -74343.51},\n",
       " {'ISIN': 'US0000000016', 'Adjusted CO2': 1398.85},\n",
       " {'ISIN': 'US0000000017', 'Adjusted CO2': 261778.1},\n",
       " {'ISIN': 'US0000000018', 'Adjusted CO2': 608438.37},\n",
       " {'ISIN': 'US0000000019', 'Adjusted CO2': 673525.14}]"
      ]
     },
     "execution_count": 72,
     "metadata": {},
     "output_type": "execute_result"
    }
   ],
   "source": [
    "## Demonstrate Solution with Calculation Function\n",
    "with open(\"data.json\") as file:\n",
    "    data = json.load(file)\n",
    "\n",
    "#print(data)    \n",
    "calculate_adj_emissions(data)\n",
    "\n"
   ]
  },
  {
   "cell_type": "code",
   "execution_count": 84,
   "metadata": {},
   "outputs": [
    {
     "name": "stderr",
     "output_type": "stream",
     "text": [
      "test_adj_emissions_success (__main__.TestAdjEmissions) ... ok\n",
      "\n",
      "----------------------------------------------------------------------\n",
      "Ran 1 test in 0.003s\n",
      "\n",
      "OK\n"
     ]
    },
    {
     "data": {
      "text/plain": [
       "<unittest.main.TestProgram at 0x247c8280088>"
      ]
     },
     "execution_count": 84,
     "metadata": {},
     "output_type": "execute_result"
    }
   ],
   "source": [
    "## Test Calculation Function\n",
    "class TestAdjEmissions(unittest.TestCase):\n",
    "    def test_adj_emissions_success(self):\n",
    "        with open(\"test.json\") as test_file:\n",
    "            test_data = json.load(test_file)\n",
    "            \n",
    "        actual = calculate_adj_emissions(test_data[0])\n",
    "        expected = test_data[1]\n",
    "        self.assertEqual(actual, expected)\n",
    "        \n",
    "unittest.main(argv=[''], verbosity=2, exit=False)\n",
    "        \n",
    "#if there are known exceptions that we want to handle, we can have calculation funtion to create an alert for that exception, \n",
    "#and can verify by testing that a mock alert was raised\n",
    "#this test requires input test file of a nested list, with first element containing test input, and 2nd element containing expected output"
   ]
  },
  {
   "cell_type": "code",
   "execution_count": null,
   "metadata": {},
   "outputs": [],
   "source": [
    "## Suggest how to orchestrate updating the data and then computing this. Assume the data is saved in a PostgreSQL database.\n",
    "\n",
    "## Create two different tables in PostgresQL, e_data that contains data from the file, and adjusted_co2 that contains isin and adjusted co2. \n",
    "## Connect to the postgresql, and use SCD type 3 to update or insert new data into e_data by merging on ISIN.\n",
    "## Then pull the modified or new data and calculate the adjusted_co2. \n",
    "## Again, merging on ISIN, update or insert the computed data into adjusted_co2."
   ]
  },
  {
   "cell_type": "code",
   "execution_count": null,
   "metadata": {},
   "outputs": [],
   "source": []
  }
 ],
 "metadata": {
  "kernelspec": {
   "display_name": "Python 3",
   "language": "python",
   "name": "python3"
  },
  "language_info": {
   "codemirror_mode": {
    "name": "ipython",
    "version": 3
   },
   "file_extension": ".py",
   "mimetype": "text/x-python",
   "name": "python",
   "nbconvert_exporter": "python",
   "pygments_lexer": "ipython3",
   "version": "3.7.6"
  }
 },
 "nbformat": 4,
 "nbformat_minor": 4
}
